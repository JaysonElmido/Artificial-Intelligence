{
 "cells": [
  {
   "cell_type": "markdown",
   "metadata": {},
   "source": [
    "# **Accenture Artificial Intelligence Exercise 2**"
   ]
  },
  {
   "cell_type": "markdown",
   "metadata": {},
   "source": [
    "## 1.\tCreate a Basic Sentiment Analysis AI using Python\n",
    "\n",
    "Create a basic sentiment analysis AI using Python. Use `TextBlob` library to perform sentiment analysis. Define a function, `analyze_sentiment`, which calculates the sentiment polarity of the input text and classifies it as \"Positive,\" \"Negative,\" or \"Neutral”. The user is prompted to enter a sentence, and the AI provides a sentiment analysis result. \n",
    "\n",
    "Hint: Import TextBlob library\n"
   ]
  },
  {
   "cell_type": "code",
   "execution_count": 3,
   "metadata": {},
   "outputs": [
    {
     "name": "stdout",
     "output_type": "stream",
     "text": [
      "Sentiment: Positive\n",
      "Sentiment: Negative\n",
      "Sentiment: Neutral\n",
      "Sentiment: Neutral\n",
      "Sentiment: Neutral\n",
      "Sentiment: Neutral\n",
      "Sentiment: Positive\n"
     ]
    }
   ],
   "source": [
    "from textblob import TextBlob\n",
    "\n",
    "def analyze_sentiment(sentence):\n",
    "    # Create a TextBlob object\n",
    "    blob = TextBlob(sentence)\n",
    "    \n",
    "    # Get the polarity score\n",
    "    polarity = blob.sentiment.polarity\n",
    "    \n",
    "    # Classify the sentiment\n",
    "    if polarity > 0:\n",
    "        return \"Positive\"\n",
    "    elif polarity < 0:\n",
    "        return \"Negative\"\n",
    "    else:\n",
    "        return \"Neutral\"\n",
    "\n",
    "# Main program\n",
    "while True:\n",
    "    # Prompt the user to enter a sentence\n",
    "    user_input = input(\"Enter a sentence: \")\n",
    "    \n",
    "    # Break the loop if the user enters an empty string\n",
    "    if not user_input:\n",
    "        break\n",
    "    \n",
    "    # Analyze the sentiment\n",
    "    sentiment = analyze_sentiment(user_input)\n",
    "    \n",
    "    # Display the result\n",
    "    print(\"Sentiment: {}\".format(sentiment))\n"
   ]
  }
 ],
 "metadata": {
  "kernelspec": {
   "display_name": "Python 3",
   "language": "python",
   "name": "python3"
  },
  "language_info": {
   "codemirror_mode": {
    "name": "ipython",
    "version": 3
   },
   "file_extension": ".py",
   "mimetype": "text/x-python",
   "name": "python",
   "nbconvert_exporter": "python",
   "pygments_lexer": "ipython3",
   "version": "3.11.4"
  }
 },
 "nbformat": 4,
 "nbformat_minor": 2
}
