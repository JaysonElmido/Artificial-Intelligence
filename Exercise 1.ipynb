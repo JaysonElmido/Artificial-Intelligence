{
 "cells": [
  {
   "cell_type": "markdown",
   "metadata": {},
   "source": [
    "# **Accenture Artificial Intelligence Exercise 1**"
   ]
  },
  {
   "cell_type": "markdown",
   "metadata": {},
   "source": [
    "## 1.\tBuild a Simple Rule-Based Chatbot in Python. \n",
    "\n",
    "Create a basic rule-based chatbot using Python that uses a predefined dictionary of responses to interact with the user. It will respond based on the user's input, and if the input is not recognized, it will provide a default response. Users can exit the chat by typing \"exit\". \n",
    "\n",
    "Hint: Import random library\n"
   ]
  },
  {
   "cell_type": "code",
   "execution_count": null,
   "metadata": {},
   "outputs": [],
   "source": []
  }
 ],
 "metadata": {
  "language_info": {
   "name": "python"
  }
 },
 "nbformat": 4,
 "nbformat_minor": 2
}
