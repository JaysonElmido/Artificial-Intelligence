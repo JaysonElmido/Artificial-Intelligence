{
 "cells": [
  {
   "cell_type": "markdown",
   "metadata": {},
   "source": [
    "# **Accenture Artificial Intelligence Exercise 1**"
   ]
  },
  {
   "cell_type": "markdown",
   "metadata": {},
   "source": [
    "## 1.\tBuild a Simple Rule-Based Chatbot in Python. \n",
    "\n",
    "Create a basic rule-based chatbot using Python that uses a predefined dictionary of responses to interact with the user. It will respond based on the user's input, and if the input is not recognized, it will provide a default response. Users can exit the chat by typing \"exit\". \n",
    "\n",
    "Hint: Import random library\n"
   ]
  },
  {
   "cell_type": "code",
   "execution_count": 6,
   "metadata": {},
   "outputs": [
    {
     "name": "stdout",
     "output_type": "stream",
     "text": [
      "Chatbot: Hello!\n",
      "Chatbot: Greetings!\n",
      "Chatbot: I don't understand.\n",
      "Chatbot: Could you please rephrase your question?\n",
      "Chatbot: I'm not sure how to respond to that.\n",
      "Chatbot: I don't understand.\n",
      "Chatbot: Goodbye!\n"
     ]
    }
   ],
   "source": [
    "import random\n",
    "\n",
    "def simple_chatbot(user_input):\n",
    "    responses = {\n",
    "        \"hello\": [\"Hello!\", \"Hi there!\", \"Greetings!\"],\n",
    "        \"how are you\": [\"I'm just a chatbot, but I'm here to help!\", \"I'm doing well, thanks!\"],\n",
    "        \"bye\": [\"Goodbye!\", \"See you later!\", \"Farewell!\"],\n",
    "        \"default\": [\"I'm not sure how to respond to that.\", \"Could you please rephrase your question?\", \"I don't understand.\"],\n",
    "        \"exit\": [\"Goodbye!\"]\n",
    "    }\n",
    "\n",
    "    # Convert user input to lowercase for case-insensitive matching\n",
    "    user_input_lower = user_input.lower()\n",
    "\n",
    "    # Check if user wants to exit\n",
    "    if user_input_lower == \"exit\":\n",
    "        return random.choice(responses[\"exit\"])\n",
    "\n",
    "    # Check if user input is recognized, otherwise provide a default response\n",
    "    if user_input_lower in responses:\n",
    "        return random.choice(responses[user_input_lower])\n",
    "    else:\n",
    "        return random.choice(responses[\"default\"])\n",
    "\n",
    "# Main loop for chatbot interaction\n",
    "while True:\n",
    "    user_input = input(\"You: \")\n",
    "    response = simple_chatbot(user_input)\n",
    "    print(\"Chatbot:\", response)\n",
    "\n",
    "    # Check if the user entered 'exit' or 'bye' to end the conversation\n",
    "    if response == \"Goodbye!\" and user_input.lower() in [\"exit\", \"bye\"]:\n",
    "        break\n"
   ]
  },
  {
   "cell_type": "code",
   "execution_count": null,
   "metadata": {},
   "outputs": [],
   "source": []
  }
 ],
 "metadata": {
  "kernelspec": {
   "display_name": "Python 3",
   "language": "python",
   "name": "python3"
  },
  "language_info": {
   "codemirror_mode": {
    "name": "ipython",
    "version": 3
   },
   "file_extension": ".py",
   "mimetype": "text/x-python",
   "name": "python",
   "nbconvert_exporter": "python",
   "pygments_lexer": "ipython3",
   "version": "3.11.4"
  }
 },
 "nbformat": 4,
 "nbformat_minor": 2
}
